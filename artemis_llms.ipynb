{
 "cells": [
  {
   "cell_type": "code",
   "execution_count": 9,
   "metadata": {},
   "outputs": [],
   "source": [
    "import src.model_calls as calls\n",
    "\n",
    "q = \"Nom de l'empresa que sol·licita la tranferència.\"\n",
    "answer = calls.call_salamandra(system_prompt=\"No sirulegis\", model_prompt=f\"Donada la següent pregunta o afirmació, defineix una query en llenguatge natural per buscar a la base de dades: Afirmació: {q}\", temperature=0.0)"
   ]
  },
  {
   "cell_type": "code",
   "execution_count": 10,
   "metadata": {},
   "outputs": [
    {
     "data": {
      "text/plain": [
       "'\"Quin és el nom de l\\'empresa que sol·licita la transferència?\"'"
      ]
     },
     "execution_count": 10,
     "metadata": {},
     "output_type": "execute_result"
    }
   ],
   "source": [
    "answer.content"
   ]
  },
  {
   "cell_type": "code",
   "execution_count": 4,
   "metadata": {},
   "outputs": [
    {
     "name": "stdout",
     "output_type": "stream",
     "text": [
      "L'equip de l'empresa són en Gerard, la Núria i la Raquel.\n"
     ]
    }
   ],
   "source": [
    "import src.model_calls as calls\n",
    "\n",
    "question = \"Qui és l'equip de l'empresa?\"\n",
    "context = data['chunks'][801]['text']\n",
    "answer = calls.call_salamandra(system_prompt=\"No sirulegis\", model_prompt=f\"Respon la pregunta, amb la informació context que se't dona, si el context no te suficient informació per respondre digues 'no puc respondre'. Pregunta: {question}, Contexte: {context}\", temperature=0.0)\n",
    "print(answer.content)"
   ]
  },
  {
   "cell_type": "code",
   "execution_count": 33,
   "metadata": {},
   "outputs": [
    {
     "name": "stdout",
     "output_type": "stream",
     "text": [
      "Les tecnologies de la informació, la intel·ligència artificial, la narrativa i l'estratègia digital són les nostres (i les vostres) aliades.\n"
     ]
    }
   ],
   "source": [
    "import src.model_calls as calls\n",
    "\n",
    "question = \"Tipus de tecnologies que es faran servir per duur a terme la tasca.\" + \"Selecciona una o més de les opcions seqüents: 'Fabricació additiva/i3D Printing', 'Robòtica i manufactura avançada ( inclou realitat virtual i realitat augmentada o mixta,Cloud/Edge,Simulació i bessó digital)','Supercomputació i Quàntica', 'Supercomputació i Quàntica', 'Ciberseguretat', 'Intel·ligència artificial ( Inclou Big Data)'\"\n",
    "context = data['chunks'][0]['text']\n",
    "answer = calls.call_salamandra(system_prompt=\"No sirulegis\", model_prompt=f\"Respon la pregunta, amb la informació context que se't dona, si el context no te suficient informació per respondre digues 'no puc respondre'. Pregunta: {question}, Contexte: {context}\", temperature=0.0)\n",
    "print(answer.content)"
   ]
  },
  {
   "cell_type": "code",
   "execution_count": 45,
   "metadata": {},
   "outputs": [],
   "source": [
    "import json\n",
    "\n",
    "with open('dades/allread.json', 'r') as f:\n",
    "    data = json.load(f)"
   ]
  },
  {
   "cell_type": "code",
   "execution_count": 47,
   "metadata": {},
   "outputs": [],
   "source": [
    "import json\n",
    "with open('src/convocatories/convocatories_data.json', 'r') as f:\n",
    "    convocatoria = json.load(f)"
   ]
  },
  {
   "cell_type": "code",
   "execution_count": 44,
   "metadata": {},
   "outputs": [
    {
     "data": {
      "text/plain": [
       "True"
      ]
     },
     "execution_count": 44,
     "metadata": {},
     "output_type": "execute_result"
    }
   ],
   "source": [
    "from sentence_transformers import SentenceTransformer\n",
    "\n",
    "GLOBAL_SBERT_CAT = SentenceTransformer(\"projecte-aina/ST-NLI-ca_paraphrase-multilingual-mpnet-base\")\n",
    "def produce_sbert_embedding_cat(query):\n",
    "    return  GLOBAL_SBERT_CAT.encode(query).tolist()\n",
    "\n",
    "import annoy\n",
    "\n",
    "index = annoy.AnnoyIndex(768, 'angular')\n",
    "index.load('dades/allread.vdb')\n"
   ]
  },
  {
   "cell_type": "code",
   "execution_count": 70,
   "metadata": {},
   "outputs": [
    {
     "data": {
      "text/plain": [
       "'presupost'"
      ]
     },
     "execution_count": 70,
     "metadata": {},
     "output_type": "execute_result"
    }
   ],
   "source": [
    "query"
   ]
  },
  {
   "cell_type": "code",
   "execution_count": 73,
   "metadata": {},
   "outputs": [
    {
     "name": "stdout",
     "output_type": "stream",
     "text": [
      "Nosaltres. . La Nostra Història. Treballa amb Nosaltres. . . Solucions. . ARSⒸ Carretera. ARSⒸ Ferrocarril . ARSⒸ Grues. . . Casos d’Èxit. . Control de accesos. . Terminal Dársena Toscana. Bilbao Port. Puerto de Leixões. . . Trazabilidad de activos. . Renfe Mercancías. Puerto de Algeciras. Terminal Kaleido Vigo. Inventario con drones. IAG Cargo. Galacteum. . . . . Recursos. . eBooks. . Cómo la IA Transforma La Trazabilidad En Puertos. . . Requisitos técnicos. Cámaras recomendadas. Guía de instalación de cámaras. Vídeos. . . Blog. Projectes. . Createc. Ports 4.0. . . Català. . Español. English. Français. Català\n",
      "Miguel Silva-Constenla\t\t\t\t. . . CEO & Cofundador – MSc . . \t\t\t\t\t\tView Profile\n",
      "Marçal Rossinyol\t\t\t\t. . . CTO & Cofoundador – MSc, PHD . . \t\t\t\t\t\tView Profile\n",
      "Nosaltres. . La Nostra Història. Treballa amb Nosaltres. . . Solucions. . ARSⒸ Carretera. ARSⒸ Ferrocarril . ARSⒸ Grues. . . Casos d’Èxit. . Control de accesos. . Terminal Dársena Toscana. Bilbao Port. Puerto de Leixões. . . Trazabilidad de activos. . Renfe Mercancías. Puerto de Algeciras. Terminal Kaleido Vigo. Inventario con drones. IAG Cargo. Galacteum. . . . . Recursos. . eBooks. . Cómo la IA Transforma La Trazabilidad En Puertos. . . Requisitos técnicos. Cámaras recomendadas. Guía de instalación de cámaras. Vídeos. . . Blog. Projectes. . Createc. Ports 4.0. . . Català. . Español. English. Français. Català. . .  . Trieu un idioma. Español. English. Français. Català. .  . . . . . \t\t\t\t\t\tContacte\n",
      "Nosaltres. . La Nostra Història. Treballa amb Nosaltres. . . Solucions. . ARSⒸ Carretera. ARSⒸ Ferrocarril . ARSⒸ Grues. . . Casos d’Èxit. . Control de accesos. . Terminal Dársena Toscana. Bilbao Port. Puerto de Leixões. . . Trazabilidad de activos. . Renfe Mercancías. Puerto de Algeciras. Terminal Kaleido Vigo. Inventario con drones. IAG Cargo. Galacteum. . . . . Recursos. . eBooks. . Cómo la IA Transforma La Trazabilidad En Puertos. . . Requisitos técnicos. Cámaras recomendadas. Guía de instalación de cámaras. Vídeos. . . Blog. Projectes. . Createc. Ports 4.0. . . Català. . Español. English. Français. Català. . .  . . . . \t\t\t\t\t\tContacte\n",
      "Renfe Mercancías. Puerto de Algeciras. Terminal Kaleido Vigo. Inventario con drones. IAG Cargo. Galacteum\n",
      "Després d’una ronda pre-seed a principis de 2019, l’equip va validar la seva solució mitjançant diversos projectes pilot en Logística i Serveis Públics, on un repte va guanyar rellevància: malgrat viure a l’era digital, el text encara es presenta en formes infinites; gravat, pintat, en etiquetes… tant en productes o vehicles com en contenidors i en les cadenes de subministrament. Per això, les empreses inverteixen grans sumes de diners intentant extreure aquesta valuosa informació amb fins d’identificació, monitorització i seguiment, però en molts casos, utilitzant tecnologies obsoletes i processos manuals repetitius.\n",
      "Norrsken House Barcelona.. Passeig del Mare Nostrum, 15. 08039 Barcelona, España\n",
      "Trazabilidad de activos. . Renfe Mercancías. Puerto de Algeciras. Terminal Kaleido Vigo. Inventario con drones. IAG Cargo. Galacteum\n",
      "La IA como protagonista del Container Terminal Automation Conference 2023. 22/03/2023\n",
      "Després d’una ronda pre-seed a principis de 2019, l’equip va validar la seva solució mitjançant diversos projectes pilot en Logística i Serveis Públics, on un repte va guanyar rellevància: malgrat viure a l’era digital, el text encara es presenta en formes infinites; gravat, pintat, en etiquetes… tant en productes o vehicles com en contenidors i en les cadenes de subministrament. Per això, les empreses inverteixen grans sumes de diners intentant extreure aquesta valuosa informació amb fins d’identificació, monitorització i seguiment, però en molts casos, utilitzant tecnologies obsoletes i processos manuals repetitius.En desenvolupar un software plug-and-play, AllRead extreu informació de valor d’imatges o vídeos i lliura les dades estructurades netes, millorant així l’eficiència operativa, reduint el temps de processament i accelerant la gestió de dades.\n",
      "Els nostres fundadors . . . . . . . .  . . . . . . . . . . . \t\t\t\t\tMiguel Silva-Constenla\t\t\t\t. . . CEO & Cofundador – MSc . . \t\t\t\t\t\tView Profile. \t\t\t\t\t\t. \t\t\t\t\t\t\t. . . . . . . . . . . . . . . . . . . . . . . . . \t\t\t\t\tAdriaan Landman\t\t\t\t. . . COO & Cofoundador – MSc, MBA . . \t\t\t\t\t\tView Profile. \t\t\t\t\t\t. \t\t\t\t\t\t\t. . . . . . . . . . . . . . . . . . . . . . . . . \t\t\t\t\tMarçal Rossinyol\t\t\t\t. . . CTO & Cofoundador – MSc, PHD . . \t\t\t\t\t\tView Profile\n",
      "Nosaltres. . La Nostra Història. Treballa amb Nosaltres. . . Solucions. . ARSⒸ Carretera. ARSⒸ Ferrocarril . ARSⒸ Grues. . . Casos d’Èxit. . Control de accesos. . Terminal Dársena Toscana. Bilbao Port. Puerto de Leixões. . . Trazabilidad de activos. . Renfe Mercancías. Puerto de Algeciras. Terminal Kaleido Vigo. Inventario con drones. IAG Cargo. Galacteum. . . . . Recursos. . eBooks. . Cómo la IA Transforma La Trazabilidad En Puertos. . . Requisitos técnicos. Cámaras recomendadas. Guía de instalación de cámaras. Vídeos. . . Blog. Projectes. . Createc. Ports 4.0. . . Català. . Español. English. Français. Català. . .  . Trieu un idioma. Español. English. Català. .  . . . . . \t\t\t\t\t\tContacte\n",
      "CONTACT . . . .  . . .  . . . . . . . . \t\t\t\t\t\tNorrsken House Barcelona.. Passeig del Mare Nostrum, 15. 08039 Barcelona, España\n",
      "Casos d’Èxit. . Control de accesos. . Terminal Dársena Toscana. Bilbao Port. Puerto de Leixões. . . Trazabilidad de activos. . Renfe Mercancías. Puerto de Algeciras. Terminal Kaleido Vigo. Inventario con drones. IAG Cargo. Galacteum\n",
      "Adriaan Landman\t\t\t\t. . . COO & Cofoundador – MSc, MBA . . \t\t\t\t\t\tView Profile\n",
      "Miguel Silva-Constenla\t\t\t\t. . . CEO & Cofundador – MSc . . \t\t\t\t\t\tView Profile. \t\t\t\t\t\t. \t\t\t\t\t\t\t. . . . . . . . . . . . . . . . . . . . . . . . . \t\t\t\t\tAdriaan Landman\t\t\t\t. . . COO & Cofoundador – MSc, MBA . . \t\t\t\t\t\tView Profile. \t\t\t\t\t\t. \t\t\t\t\t\t\t. . . . . . . . . . . . . . . . . . . . . . . . . \t\t\t\t\tMarçal Rossinyol\t\t\t\t. . . CTO & Cofoundador – MSc, PHD . . \t\t\t\t\t\tView Profile\n",
      "Respon la pregunta amb la informació context que se't dona, si el context no te suficient informació per respondre digues 'no puc respondre'. Pregunta: Quin és el presupost del projecte?, Contexte: Nosaltres. . La Nostra Història. Treballa amb Nosaltres. . . Solucions. . ARSⒸ Carretera. ARSⒸ Ferrocarril . ARSⒸ Grues. . . Casos d’Èxit. . Control de accesos. . Terminal Dársena Toscana. Bilbao Port. Puerto de Leixões. . . Trazabilidad de activos. . Renfe Mercancías. Puerto de Algeciras. Terminal Kaleido Vigo. Inventario con drones. IAG Cargo. Galacteum. . . . . Recursos. . eBooks. . Cómo la IA Transforma La Trazabilidad En Puertos. . . Requisitos técnicos. Cámaras recomendadas. Guía de instalación de cámaras. Vídeos. . . Blog. Projectes. . Createc. Ports 4.0. . . Català. . Español. English. Français. Català Miguel Silva-Constenla\t\t\t\t. . . CEO & Cofundador – MSc . . \t\t\t\t\t\tView Profile Marçal Rossinyol\t\t\t\t. . . CTO & Cofoundador – MSc, PHD . . \t\t\t\t\t\tView Profile Nosaltres. . La Nostra Història. Treballa amb Nosaltres. . . Solucions. . ARSⒸ Carretera. ARSⒸ Ferrocarril . ARSⒸ Grues. . . Casos d’Èxit. . Control de accesos. . Terminal Dársena Toscana. Bilbao Port. Puerto de Leixões. . . Trazabilidad de activos. . Renfe Mercancías. Puerto de Algeciras. Terminal Kaleido Vigo. Inventario con drones. IAG Cargo. Galacteum. . . . . Recursos. . eBooks. . Cómo la IA Transforma La Trazabilidad En Puertos. . . Requisitos técnicos. Cámaras recomendadas. Guía de instalación de cámaras. Vídeos. . . Blog. Projectes. . Createc. Ports 4.0. . . Català. . Español. English. Français. Català. . .  . Trieu un idioma. Español. English. Français. Català. .  . . . . . \t\t\t\t\t\tContacte Nosaltres. . La Nostra Història. Treballa amb Nosaltres. . . Solucions. . ARSⒸ Carretera. ARSⒸ Ferrocarril . ARSⒸ Grues. . . Casos d’Èxit. . Control de accesos. . Terminal Dársena Toscana. Bilbao Port. Puerto de Leixões. . . Trazabilidad de activos. . Renfe Mercancías. Puerto de Algeciras. Terminal Kaleido Vigo. Inventario con drones. IAG Cargo. Galacteum. . . . . Recursos. . eBooks. . Cómo la IA Transforma La Trazabilidad En Puertos. . . Requisitos técnicos. Cámaras recomendadas. Guía de instalación de cámaras. Vídeos. . . Blog. Projectes. . Createc. Ports 4.0. . . Català. . Español. English. Français. Català. . .  . . . . \t\t\t\t\t\tContacte Renfe Mercancías. Puerto de Algeciras. Terminal Kaleido Vigo. Inventario con drones. IAG Cargo. Galacteum Després d’una ronda pre-seed a principis de 2019, l’equip va validar la seva solució mitjançant diversos projectes pilot en Logística i Serveis Públics, on un repte va guanyar rellevància: malgrat viure a l’era digital, el text encara es presenta en formes infinites; gravat, pintat, en etiquetes… tant en productes o vehicles com en contenidors i en les cadenes de subministrament. Per això, les empreses inverteixen grans sumes de diners intentant extreure aquesta valuosa informació amb fins d’identificació, monitorització i seguiment, però en molts casos, utilitzant tecnologies obsoletes i processos manuals repetitius. Norrsken House Barcelona.. Passeig del Mare Nostrum, 15. 08039 Barcelona, España Trazabilidad de activos. . Renfe Mercancías. Puerto de Algeciras. Terminal Kaleido Vigo. Inventario con drones. IAG Cargo. Galacteum La IA como protagonista del Container Terminal Automation Conference 2023. 22/03/2023 Després d’una ronda pre-seed a principis de 2019, l’equip va validar la seva solució mitjançant diversos projectes pilot en Logística i Serveis Públics, on un repte va guanyar rellevància: malgrat viure a l’era digital, el text encara es presenta en formes infinites; gravat, pintat, en etiquetes… tant en productes o vehicles com en contenidors i en les cadenes de subministrament. Per això, les empreses inverteixen grans sumes de diners intentant extreure aquesta valuosa informació amb fins d’identificació, monitorització i seguiment, però en molts casos, utilitzant tecnologies obsoletes i processos manuals repetitius.En desenvolupar un software plug-and-play, AllRead extreu informació de valor d’imatges o vídeos i lliura les dades estructurades netes, millorant així l’eficiència operativa, reduint el temps de processament i accelerant la gestió de dades. Els nostres fundadors . . . . . . . .  . . . . . . . . . . . \t\t\t\t\tMiguel Silva-Constenla\t\t\t\t. . . CEO & Cofundador – MSc . . \t\t\t\t\t\tView Profile. \t\t\t\t\t\t. \t\t\t\t\t\t\t. . . . . . . . . . . . . . . . . . . . . . . . . \t\t\t\t\tAdriaan Landman\t\t\t\t. . . COO & Cofoundador – MSc, MBA . . \t\t\t\t\t\tView Profile. \t\t\t\t\t\t. \t\t\t\t\t\t\t. . . . . . . . . . . . . . . . . . . . . . . . . \t\t\t\t\tMarçal Rossinyol\t\t\t\t. . . CTO & Cofoundador – MSc, PHD . . \t\t\t\t\t\tView Profile Nosaltres. . La Nostra Història. Treballa amb Nosaltres. . . Solucions. . ARSⒸ Carretera. ARSⒸ Ferrocarril . ARSⒸ Grues. . . Casos d’Èxit. . Control de accesos. . Terminal Dársena Toscana. Bilbao Port. Puerto de Leixões. . . Trazabilidad de activos. . Renfe Mercancías. Puerto de Algeciras. Terminal Kaleido Vigo. Inventario con drones. IAG Cargo. Galacteum. . . . . Recursos. . eBooks. . Cómo la IA Transforma La Trazabilidad En Puertos. . . Requisitos técnicos. Cámaras recomendadas. Guía de instalación de cámaras. Vídeos. . . Blog. Projectes. . Createc. Ports 4.0. . . Català. . Español. English. Français. Català. . .  . Trieu un idioma. Español. English. Català. .  . . . . . \t\t\t\t\t\tContacte CONTACT . . . .  . . .  . . . . . . . . \t\t\t\t\t\tNorrsken House Barcelona.. Passeig del Mare Nostrum, 15. 08039 Barcelona, España Casos d’Èxit. . Control de accesos. . Terminal Dársena Toscana. Bilbao Port. Puerto de Leixões. . . Trazabilidad de activos. . Renfe Mercancías. Puerto de Algeciras. Terminal Kaleido Vigo. Inventario con drones. IAG Cargo. Galacteum Adriaan Landman\t\t\t\t. . . COO & Cofoundador – MSc, MBA . . \t\t\t\t\t\tView Profile Miguel Silva-Constenla\t\t\t\t. . . CEO & Cofundador – MSc . . \t\t\t\t\t\tView Profile. \t\t\t\t\t\t. \t\t\t\t\t\t\t. . . . . . . . . . . . . . . . . . . . . . . . . \t\t\t\t\tAdriaan Landman\t\t\t\t. . . COO & Cofoundador – MSc, MBA . . \t\t\t\t\t\tView Profile. \t\t\t\t\t\t. \t\t\t\t\t\t\t. . . . . . . . . . . . . . . . . . . . . . . . . \t\t\t\t\tMarçal Rossinyol\t\t\t\t. . . CTO & Cofoundador – MSc, PHD . . \t\t\t\t\t\tView Profile\n",
      "ANSWER:  No puc respondre.\n"
     ]
    }
   ],
   "source": [
    "import src.model_calls as calls\n",
    "\n",
    "default_full_prompt = \"Respon la pregunta amb la informació context que se't dona, si el context no te suficient informació per respondre digues 'no puc respondre'. Pregunta: {question}, Contexte: {context}\",\n",
    "\n",
    "query = \"web\"\n",
    "question = \"Quin és el presupost del projecte?\"\n",
    "\n",
    "min_len = 10\n",
    "max_len = 250\n",
    "context = set([data['chunks'][i]['text'] for i in index.get_nns_by_vector(produce_sbert_embedding_cat(\"Nom de l'empresa\"), 800) if len(data['chunks'][i]['text'].split(\" \")) > min_len and len(data['chunks'][i]['text'].split(\" \")) < max_len])\n",
    "print(\"\\n\".join(context))\n",
    "context = \" \".join(context)\n",
    "full_prompt = f\"Respon la pregunta amb la informació context que se't dona, si el context no te suficient informació per respondre digues 'no puc respondre'. Pregunta: {question}, Contexte: {context}\"\n",
    "answer = calls.call_salamandra(system_prompt=\"\", model_prompt=full_prompt, temperature=0.0)\n",
    "print(full_prompt)\n",
    "print(\"ANSWER: \", answer.content)"
   ]
  },
  {
   "cell_type": "code",
   "execution_count": 72,
   "metadata": {},
   "outputs": [
    {
     "data": {
      "text/plain": [
       "'web'"
      ]
     },
     "execution_count": 72,
     "metadata": {},
     "output_type": "execute_result"
    }
   ],
   "source": [
    "query"
   ]
  },
  {
   "cell_type": "code",
   "execution_count": 76,
   "metadata": {},
   "outputs": [
    {
     "name": "stdout",
     "output_type": "stream",
     "text": [
      "Quin és el nom de l'empresa? No puc respondre.\n",
      "Quin es el sector i activitat principal de l'empresa? No puc respondre.\n",
      "Quina és la web de l'empresa? La web de l'empresa és: www.allread.ai\n",
      "Quines són les xifres de negoci de l'empresa? No puc respondre.\n",
      "Quin és el resultat del test d'autoorientació digital del DIH4CAT? Tria entre: Explorant, Competent, Expert, Líder El resultat del test d'autoorientació digital del DIH4CAT és: Competent.\n",
      "Quin és el títol de l'activitat que l'empresa planteja solucionar amb el centre científic? No puc respondre.\n",
      "Quines technologies es faran servir per dur a terme la tasca? Respon només triant tantes techologies com vulguis de la següent llista: Fabricació additiva/i3D Printing, Robòtica i manufactura avançada ( inclou realitat virtual i realitat augmentada o mixta,Cloud/Edge,Simulació i bessó digital), Supercomputació i Quàntica, Ciberseguretat, Intel·ligència artificial ( Inclou Big Data)\n",
      " Les tecnologies que es faran servir per dur a terme la tasca són: Fabricació additiva/i3D Printing, Robòtica i manufactura avançada ( inclou realitat virtual i realitat augmentada o mixta,Cloud/Edge,Simulació i bessó digital), Supercomputació i Quàntica, Ciberseguretat, Intel·ligència artificial ( Inclou Big Data)\n",
      "Quin tipus de servei es demana? Respon només triant tantes opcions com vulguis de la següent llista: Estudis de viabilitat tecnològica, Anàlisis de nous models de negoci basats en l'ús de tecnologies digitals avançades., Serveis de prova de concepte i validació de resultats., Desenvolupament de prototips i pilots (testatge del producte o servei).\n",
      " La pregunta no especifica quin tipus de servei es demana.\n",
      "En què consistirà el servei a realitzar i l'abast del mateix? No puc respondre.\n",
      "Descriu el repte principal i reptes associats que pretén resoldre l'empresa? El repte principal i reptes associats que pretén resoldre l'empresa és extreure informació de valor d'imatges o vídeos i lliurar les dades estructurades netes, millorant així l'eficiència operativa, reduint el temps de processament i accelerant la gestió de dades.\n",
      "Quins són els resultats esperats del servei? Els resultats esperats del servei són la validació de la solució mitjançant diversos projectes pilot en Logística i Serveis Públics, on un repte va guanyar rellevància: malgrat viure a l’era digital, el text encara es presenta en formes infinites; gravat, pintat, en etiquetes… tant en productes o vehicles com en contenidors i en les cadenes de subministrament. Per això, les empreses inverteixen grans sumes de diners intentant extreure aquesta valuosa informació amb fins d’identificació, monitorització i seguiment, però en molts casos, utilitzant tecnologies obsoletes i processos manuals repetitius.\n",
      "Quins són els lliurables previstos? No puc respondre.\n"
     ]
    },
    {
     "ename": "KeyError",
     "evalue": "'search_query'",
     "output_type": "error",
     "traceback": [
      "\u001b[0;31m---------------------------------------------------------------------------\u001b[0m",
      "\u001b[0;31mKeyError\u001b[0m                                  Traceback (most recent call last)",
      "Cell \u001b[0;32mIn[76], line 9\u001b[0m\n\u001b[1;32m      7\u001b[0m \u001b[38;5;28;01mfor\u001b[39;00m slot \u001b[38;5;129;01min\u001b[39;00m convocatoria[\u001b[38;5;124m'\u001b[39m\u001b[38;5;124mcupons\u001b[39m\u001b[38;5;124m'\u001b[39m][\u001b[38;5;124m'\u001b[39m\u001b[38;5;124mslots\u001b[39m\u001b[38;5;124m'\u001b[39m]:\n\u001b[1;32m      8\u001b[0m     question \u001b[38;5;241m=\u001b[39m slot[\u001b[38;5;124m'\u001b[39m\u001b[38;5;124msystem_prompt\u001b[39m\u001b[38;5;124m'\u001b[39m]\n\u001b[0;32m----> 9\u001b[0m     query \u001b[38;5;241m=\u001b[39m \u001b[43mslot\u001b[49m\u001b[43m[\u001b[49m\u001b[38;5;124;43m'\u001b[39;49m\u001b[38;5;124;43msearch_query\u001b[39;49m\u001b[38;5;124;43m'\u001b[39;49m\u001b[43m]\u001b[49m\n\u001b[1;32m     10\u001b[0m     context \u001b[38;5;241m=\u001b[39m \u001b[38;5;28mset\u001b[39m([data[\u001b[38;5;124m'\u001b[39m\u001b[38;5;124mchunks\u001b[39m\u001b[38;5;124m'\u001b[39m][i][\u001b[38;5;124m'\u001b[39m\u001b[38;5;124mtext\u001b[39m\u001b[38;5;124m'\u001b[39m] \u001b[38;5;28;01mfor\u001b[39;00m i \u001b[38;5;129;01min\u001b[39;00m index\u001b[38;5;241m.\u001b[39mget_nns_by_vector(produce_sbert_embedding_cat(\u001b[38;5;124m\"\u001b[39m\u001b[38;5;124mNom de l\u001b[39m\u001b[38;5;124m'\u001b[39m\u001b[38;5;124mempresa\u001b[39m\u001b[38;5;124m\"\u001b[39m), \u001b[38;5;241m800\u001b[39m) \u001b[38;5;28;01mif\u001b[39;00m \u001b[38;5;28mlen\u001b[39m(data[\u001b[38;5;124m'\u001b[39m\u001b[38;5;124mchunks\u001b[39m\u001b[38;5;124m'\u001b[39m][i][\u001b[38;5;124m'\u001b[39m\u001b[38;5;124mtext\u001b[39m\u001b[38;5;124m'\u001b[39m]\u001b[38;5;241m.\u001b[39msplit(\u001b[38;5;124m\"\u001b[39m\u001b[38;5;124m \u001b[39m\u001b[38;5;124m\"\u001b[39m)) \u001b[38;5;241m>\u001b[39m min_len \u001b[38;5;129;01mand\u001b[39;00m \u001b[38;5;28mlen\u001b[39m(data[\u001b[38;5;124m'\u001b[39m\u001b[38;5;124mchunks\u001b[39m\u001b[38;5;124m'\u001b[39m][i][\u001b[38;5;124m'\u001b[39m\u001b[38;5;124mtext\u001b[39m\u001b[38;5;124m'\u001b[39m]\u001b[38;5;241m.\u001b[39msplit(\u001b[38;5;124m\"\u001b[39m\u001b[38;5;124m \u001b[39m\u001b[38;5;124m\"\u001b[39m)) \u001b[38;5;241m<\u001b[39m max_len])\n\u001b[1;32m     11\u001b[0m     context \u001b[38;5;241m=\u001b[39m \u001b[38;5;124m\"\u001b[39m\u001b[38;5;124m \u001b[39m\u001b[38;5;124m\"\u001b[39m\u001b[38;5;241m.\u001b[39mjoin(context)\n",
      "\u001b[0;31mKeyError\u001b[0m: 'search_query'"
     ]
    }
   ],
   "source": [
    "import src.model_calls as calls\n",
    "answers = []\n",
    "\n",
    "min_len = 10\n",
    "max_len = 250\n",
    "\n",
    "for slot in convocatoria['cupons']['slots']:\n",
    "    question = slot['system_prompt']\n",
    "    query = slot['search_query']\n",
    "    context = set([data['chunks'][i]['text'] for i in index.get_nns_by_vector(produce_sbert_embedding_cat(\"Nom de l'empresa\"), 800) if len(data['chunks'][i]['text'].split(\" \")) > min_len and len(data['chunks'][i]['text'].split(\" \")) < max_len])\n",
    "    context = \" \".join(context)\n",
    "    system_prompt = \"\"\n",
    "    model_prompt = f\"Respon la pregunta amb la informació context que se't dona, si el context no te suficient informació per respondre digues 'no puc respondre'. Pregunta: {question}, Contexte: {context}\"\n",
    "    \n",
    "    answer = calls.call_salamandra(system_prompt=system_prompt, model_prompt=model_prompt, temperature=0.0)\n",
    "    answers.append(answer.content)\n",
    "    print(question, answer.content)\n",
    "\n",
    "# # save answers\n",
    "# with open(f'src/convocatories/convocatories_answers_{}.json', 'w') as f:\n",
    "#     json.dump(answers, f)"
   ]
  }
 ],
 "metadata": {
  "kernelspec": {
   "display_name": "base",
   "language": "python",
   "name": "python3"
  },
  "language_info": {
   "codemirror_mode": {
    "name": "ipython",
    "version": 3
   },
   "file_extension": ".py",
   "mimetype": "text/x-python",
   "name": "python",
   "nbconvert_exporter": "python",
   "pygments_lexer": "ipython3",
   "version": "3.10.9"
  }
 },
 "nbformat": 4,
 "nbformat_minor": 2
}
