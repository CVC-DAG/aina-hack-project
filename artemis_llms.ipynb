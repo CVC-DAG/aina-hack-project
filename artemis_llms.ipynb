{
 "cells": [
  {
   "cell_type": "code",
   "execution_count": 9,
   "metadata": {},
   "outputs": [],
   "source": [
    "import src.model_calls as calls\n",
    "\n",
    "q = \"Nom de l'empresa que sol·licita la tranferència.\"\n",
    "answer = calls.call_salamandra(system_prompt=\"No sirulegis\", model_prompt=f\"Donada la següent pregunta o afirmació, defineix una query en llenguatge natural per buscar a la base de dades: Afirmació: {q}\", temperature=0.0)"
   ]
  },
  {
   "cell_type": "code",
   "execution_count": 10,
   "metadata": {},
   "outputs": [
    {
     "data": {
      "text/plain": [
       "'\"Quin és el nom de l\\'empresa que sol·licita la transferència?\"'"
      ]
     },
     "execution_count": 10,
     "metadata": {},
     "output_type": "execute_result"
    }
   ],
   "source": [
    "answer.content"
   ]
  },
  {
   "cell_type": "code",
   "execution_count": 4,
   "metadata": {},
   "outputs": [
    {
     "name": "stdout",
     "output_type": "stream",
     "text": [
      "L'equip de l'empresa són en Gerard, la Núria i la Raquel.\n"
     ]
    }
   ],
   "source": [
    "import src.model_calls as calls\n",
    "\n",
    "question = \"Qui és l'equip de l'empresa?\"\n",
    "context = data['chunks'][801]['text']\n",
    "answer = calls.call_salamandra(system_prompt=\"No sirulegis\", model_prompt=f\"Respon la pregunta, amb la informació context que se't dona, si el context no te suficient informació per respondre digues 'no puc respondre'. Pregunta: {question}, Contexte: {context}\", temperature=0.0)\n",
    "print(answer.content)"
   ]
  },
  {
   "cell_type": "code",
   "execution_count": 33,
   "metadata": {},
   "outputs": [
    {
     "name": "stdout",
     "output_type": "stream",
     "text": [
      "Les tecnologies de la informació, la intel·ligència artificial, la narrativa i l'estratègia digital són les nostres (i les vostres) aliades.\n"
     ]
    }
   ],
   "source": [
    "import src.model_calls as calls\n",
    "\n",
    "question = \"Tipus de tecnologies que es faran servir per duur a terme la tasca.\" + \"Selecciona una o més de les opcions seqüents: 'Fabricació additiva/i3D Printing', 'Robòtica i manufactura avançada ( inclou realitat virtual i realitat augmentada o mixta,Cloud/Edge,Simulació i bessó digital)','Supercomputació i Quàntica', 'Supercomputació i Quàntica', 'Ciberseguretat', 'Intel·ligència artificial ( Inclou Big Data)'\"\n",
    "context = data['chunks'][0]['text']\n",
    "answer = calls.call_salamandra(system_prompt=\"No sirulegis\", model_prompt=f\"Respon la pregunta, amb la informació context que se't dona, si el context no te suficient informació per respondre digues 'no puc respondre'. Pregunta: {question}, Contexte: {context}\", temperature=0.0)\n",
    "print(answer.content)"
   ]
  },
  {
   "cell_type": "code",
   "execution_count": 5,
   "metadata": {},
   "outputs": [],
   "source": [
    "import json\n",
    "\n",
    "with open('dades/data.json', 'r') as f:\n",
    "    data = json.load(f)"
   ]
  },
  {
   "cell_type": "code",
   "execution_count": 2,
   "metadata": {},
   "outputs": [],
   "source": [
    "import json\n",
    "with open('src/convocatories/convocatories_data.json', 'r') as f:\n",
    "    convocatoria = json.load(f)"
   ]
  },
  {
   "cell_type": "code",
   "execution_count": 3,
   "metadata": {},
   "outputs": [
    {
     "name": "stderr",
     "output_type": "stream",
     "text": [
      "/home/allabres/miniconda3/lib/python3.10/site-packages/torch/_utils.py:776: UserWarning: TypedStorage is deprecated. It will be removed in the future and UntypedStorage will be the only storage class. This should only matter to you if you are using storages directly.  To access UntypedStorage directly, use tensor.untyped_storage() instead of tensor.storage()\n",
      "  return self.fget.__get__(instance, owner)()\n"
     ]
    },
    {
     "data": {
      "text/plain": [
       "True"
      ]
     },
     "execution_count": 3,
     "metadata": {},
     "output_type": "execute_result"
    }
   ],
   "source": [
    "from sentence_transformers import SentenceTransformer\n",
    "\n",
    "GLOBAL_SBERT_CAT = SentenceTransformer(\"projecte-aina/ST-NLI-ca_paraphrase-multilingual-mpnet-base\")\n",
    "def produce_sbert_embedding_cat(query):\n",
    "    return  GLOBAL_SBERT_CAT.encode(query).tolist()\n",
    "\n",
    "import annoy\n",
    "\n",
    "index = annoy.AnnoyIndex(768, 'angular')\n",
    "index.load('dades/vdb.ann')\n"
   ]
  },
  {
   "cell_type": "code",
   "execution_count": 8,
   "metadata": {},
   "outputs": [
    {
     "name": "stdout",
     "output_type": "stream",
     "text": [
      "Nom de l'empresa que sol·licita la tranferència. No puc respondre.\n",
      "Sector i activitat principal de l'empresa. Sector i activitat principal de l'empresa: Inici, serveis, projectes, equip, software, R+D, contacte.\n",
      "Idem No puc respondre.\n",
      "Idem No puc respondre.\n",
      "Resultat del test d'autoorientació de la plataorma externa proporcionada per DIH4CAT No puc respondre.\n",
      "Títol de l'activitat que l'empresa planteja solucionar amb el centre científic. No puc respondre.\n",
      "Tipus de tecnologies que es faran servir per duur a terme la tasca. No puc respondre.\n",
      "Tipus de servei que es demana. No puc respondre.\n",
      "Descripció del servei que es demana. No puc respondre.\n",
      "Repte principal i reptes associats que es volen resoldre. El repte principal és donar una experiència d'usuari senzilla a projectes grans i complexos.\n",
      "Resultats esperats del servei. No puc respondre.\n",
      "Lliurables previstos. No puc respondre.\n",
      "NIF del centre de recerca No puc respondre.\n",
      " No puc respondre\n",
      "Nom del EDIH al que està vinculat. No puc respondre.\n",
      "Nom de l'entitat representant de l'EDIH No puc respondre\n",
      "NIF de l'entitat representant de l'EDIH No puc respondre.\n",
      "Competencies i coneixements del centre d\"investigació. No puc respondre.\n",
      "Experiencia prèvia del centre d\"investigació. No puc respondre.\n",
      "Nom del servei ofert a través del EDIH. No puc respondre.\n",
      "Infraestructures i equipaments del centre d\"investigació. Migració de les col·leccions del Museu Terra (Museu de la Vida Rural)Projecte de migració de dades de MuseumPlus a Dédalo per al tractament i publicació de les col·leccions del Museu Terra, a partir del qual es desenvolupen diferents projectes de publicació web com el cercador en línia de la col·lecció del Museu Terra.\n",
      "Cost subvencionable igual o major que 15000€ No puc respondre.\n",
      "Pressupost del servei. No puc respondre.\n"
     ]
    }
   ],
   "source": [
    "import src.model_calls as calls\n",
    "answers = []\n",
    "\n",
    "min_len = 5\n",
    "max_len = 500\n",
    "\n",
    "for slot in convocatoria['cupons']['slots']:\n",
    "    question = slot['explain']\n",
    "    query = slot['explain']\n",
    "    context = \" \".join(set([data['chunks'][i]['text'] for i in index.get_nns_by_vector(produce_sbert_embedding_cat(query), 50) if len(data['chunks'][i]['text'].split(\" \")) > min_len and len(data['chunks'][i]['text'].split(\" \")) < max_len]))\n",
    "\n",
    "    system_prompt = \"No sirulegis\"\n",
    "    model_prompt = f\"Respon la pregunta, amb la informació context que se't dona, si el context no te suficient informació per respondre digues 'no puc respondre'. Pregunta: {question}, Contexte: {context}\"\n",
    "    \n",
    "    answer = calls.call_salamandra(system_prompt=system_prompt, model_prompt=model_prompt, temperature=0.0)\n",
    "    answers.append(answer.content)\n",
    "    print(question, answer.content)\n",
    "\n",
    "# # save answers\n",
    "# with open(f'src/convocatories/convocatories_answers_{}.json', 'w') as f:\n",
    "#     json.dump(answers, f)"
   ]
  }
 ],
 "metadata": {
  "kernelspec": {
   "display_name": "base",
   "language": "python",
   "name": "python3"
  },
  "language_info": {
   "codemirror_mode": {
    "name": "ipython",
    "version": 3
   },
   "file_extension": ".py",
   "mimetype": "text/x-python",
   "name": "python",
   "nbconvert_exporter": "python",
   "pygments_lexer": "ipython3",
   "version": "3.10.9"
  }
 },
 "nbformat": 4,
 "nbformat_minor": 2
}
